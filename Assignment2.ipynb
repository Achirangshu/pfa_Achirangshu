{
 "cells": [
  {
   "cell_type": "code",
   "execution_count": 9,
   "id": "09c3fd48",
   "metadata": {},
   "outputs": [
    {
     "name": "stdout",
     "output_type": "stream",
     "text": [
      "Entr size of list3\n",
      "Enter a number1\n",
      "Enter a number2\n",
      "Enter a number3\n",
      "[1, 2, 3]\n",
      "[3, 2, 1]\n"
     ]
    }
   ],
   "source": [
    "list=[]\n",
    "n=int(input(\"Entr size of list\"))\n",
    "for i in range(n):\n",
    "    num=int(input(\"Enter a number\"))\n",
    "    list.append(num)\n",
    "print(list)\n",
    "num=list[0]\n",
    "length =len(list)\n",
    "list[0]=list[length-1]\n",
    "list[length-1]=num\n",
    "print(list)\n"
   ]
  },
  {
   "cell_type": "code",
   "execution_count": 10,
   "id": "b6111bed",
   "metadata": {},
   "outputs": [
    {
     "name": "stdout",
     "output_type": "stream",
     "text": [
      "5\n"
     ]
    }
   ],
   "source": [
    "list=[1,4,5,7,8]\n",
    "length=len(list)\n",
    "print(length)"
   ]
  },
  {
   "cell_type": "code",
   "execution_count": 13,
   "id": "a2f999d2",
   "metadata": {},
   "outputs": [
    {
     "name": "stdout",
     "output_type": "stream",
     "text": [
      "enter wordsGeek\n",
      "enter wordsAre\n",
      "enter wordsFor\n",
      "enter wordsGeeks\n",
      "The length of list is 4\n"
     ]
    }
   ],
   "source": [
    "list=[]\n",
    "for i in range(4):\n",
    "    word=input('enter words')\n",
    "    list.append(word)\n",
    "print('The length of list is',len(list))    \n"
   ]
  },
  {
   "cell_type": "code",
   "execution_count": 15,
   "id": "39e91c94",
   "metadata": {},
   "outputs": [
    {
     "name": "stdout",
     "output_type": "stream",
     "text": [
      "Enter a number78\n",
      "Enter a number25\n",
      "Max is 78\n",
      "Min is 25\n"
     ]
    }
   ],
   "source": [
    "a=int(input(\"Enter a number\"))\n",
    "b=int(input(\"Enter a number\"))\n",
    "print(\"Max is\",max(a,b))\n",
    "print(\"Min is\",min(a,b))"
   ]
  },
  {
   "cell_type": "code",
   "execution_count": null,
   "id": "0d81cb10",
   "metadata": {},
   "outputs": [],
   "source": []
  }
 ],
 "metadata": {
  "kernelspec": {
   "display_name": "Python 3",
   "language": "python",
   "name": "python3"
  },
  "language_info": {
   "codemirror_mode": {
    "name": "ipython",
    "version": 3
   },
   "file_extension": ".py",
   "mimetype": "text/x-python",
   "name": "python",
   "nbconvert_exporter": "python",
   "pygments_lexer": "ipython3",
   "version": "3.8.8"
  }
 },
 "nbformat": 4,
 "nbformat_minor": 5
}
